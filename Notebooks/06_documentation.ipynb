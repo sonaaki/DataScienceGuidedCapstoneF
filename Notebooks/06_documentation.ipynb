{
 "cells": [
  {
   "cell_type": "markdown",
   "id": "97d38cf7",
   "metadata": {},
   "source": [
    "# Documentation "
   ]
  },
  {
   "cell_type": "markdown",
   "id": "753a3248",
   "metadata": {},
   "source": [
    "## Project Summary: Analyzing and Optimizing Ticket Pricing for Big Mountain Resort"
   ]
  },
  {
   "cell_type": "markdown",
   "id": "54648678",
   "metadata": {},
   "source": [
    "**Dataset Overview and Preparation**\n",
    "\n",
    "The initial dataset included 330 rows and 27 columns on ski resort features like elevation, terrain, and ticket prices. Confirming Big Mountain’s presence, we refined the data by removing columns with high missing rates (e.g., fastEight) and rows missing key price information. Corrections were made for values like Silverton Mountain's skiable terrain. After cleaning, we retained 277 rows and 25 columns, focusing on AdultWeekend as the primary target for ticket price predictions.\n",
    "\n",
    "**Exploratory Data Analysis (EDA)**\n",
    "\n",
    "EDA revealed key price influencers, including fastQuads, Runs, Snow Making_ac, and vertical_drop, which positively correlate with ticket prices. We supplemented the dataset with state-level data, transforming state features into ratios (e.g., resorts per capita) to better represent competition. The final dataset is structured with numerical indicators relevant to pricing.\n",
    "\n",
    "**Modeling Process and Selection**\n",
    "\n",
    "We initially tested a simple average ticket price benchmark, then built a linear regression model using key features like vertical_drop and Snow Making_ac. Cross-validation yielded a mean absolute error (MAE) of ~10.5. Switching to a Random Forest model improved accuracy, reducing MAE to 9.6 with consistent performance on test data. The Random Forest model’s robustness makes it the primary tool for pricing insights.\n",
    "\n",
    "**Current Price vs. Model Suggestion**\n",
    "\n",
    "Big Mountain’s current price of \\\\$81.00 contrasts with the model’s suggested price of \\\\$95.97, indicating a possible \\\\$14.97 increase. Leadership could consider this adjustment for revenue growth while monitoring customer impact.\n",
    "\n",
    "**Scenario Analysis**\n",
    "\n",
    "  •\tScenario 2: Adding a new chair lift and extending vertical drop supports a \\\\$1.45 price increase per ticket, leading to a projected seasonal revenue increase of \\\\$2,545,455.\n",
    "\n",
    "  •\tOther Scenarios: Closing runs or extending the longest run showed minimal pricing impact, making them less viable.\n",
    "\n",
    "**Run Closure Approach**\n",
    "\n",
    "To minimize potential customer impact, Big Mountain could trial closing lesser-used runs during off-peak times, using financial data to inform any permanent changes.\n",
    "\n",
    "**Next Steps: Data and Model Accessibility**\n",
    "\n",
    "To refine pricing strategy, gathering more operating cost data (e.g., maintenance, staffing, snowmaking costs) and competitor cost insights would enhance profitability assessments. A dashboard or API could enable business analysts to test scenarios independently, facilitating data-driven decisions without requiring constant model updates from data science teams.\n",
    "\n",
    "**Conclusion**\n",
    "\n",
    "Aligning prices closer to the model’s suggested \\\\$95.97 and implementing Scenario 2 for vertical drop enhancement could strengthen revenue. Integrating the model into accessible tools would empower analysts for ongoing, scenario-based pricing adjustments.\n"
   ]
  }
 ],
 "metadata": {
  "kernelspec": {
   "display_name": "Python 3 (ipykernel)",
   "language": "python",
   "name": "python3"
  },
  "language_info": {
   "codemirror_mode": {
    "name": "ipython",
    "version": 3
   },
   "file_extension": ".py",
   "mimetype": "text/x-python",
   "name": "python",
   "nbconvert_exporter": "python",
   "pygments_lexer": "ipython3",
   "version": "3.9.13"
  }
 },
 "nbformat": 4,
 "nbformat_minor": 5
}
